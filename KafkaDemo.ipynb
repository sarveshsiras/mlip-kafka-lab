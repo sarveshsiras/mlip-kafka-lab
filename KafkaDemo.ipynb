{
 "cells": [
  {
   "cell_type": "markdown",
   "id": "59b2d799",
   "metadata": {},
   "source": [
    "# Kafka Demo\n",
    "\n",
    "### Connect to Kafka Broker Server \n",
    "```\n",
    "ssh -L <local_port>:localhost:<remote_port> <user>@<remote_server> -NTf\n",
    "```\n",
    "Find how to connect to Kafka server on Canvas lab 2 assignment page.\n",
    "\n",
    "### To kill connection\n",
    "```\n",
    "lsof -ti:<local_port> | xargs kill -9\n",
    "```\n",
    "\n",
    "### Setup\n",
    "```\n",
    "python -m pip install kafka-python\n",
    "```"
   ]
  },
  {
   "cell_type": "code",
   "execution_count": 2,
   "id": "560fd2bb",
   "metadata": {
    "ExecuteTime": {
     "end_time": "2025-01-24T05:12:28.577602Z",
     "start_time": "2025-01-24T05:12:28.555732Z"
    }
   },
   "outputs": [],
   "source": [
    "import os\n",
    "from datetime import datetime\n",
    "from json import dumps, loads\n",
    "from time import sleep\n",
    "from random import randint\n",
    "from kafka import KafkaConsumer, KafkaProducer\n",
    "\n",
    "# Update this for your own recitation section :)\n",
    "topic = 'recitation-d-sarvesh' # x could be b, c, d, e, f"
   ]
  },
  {
   "cell_type": "markdown",
   "id": "0eb9dd6f",
   "metadata": {},
   "source": [
    "### Producer Mode -> Writes Data to Broker"
   ]
  },
  {
   "cell_type": "code",
   "execution_count": 4,
   "id": "aa4679a1",
   "metadata": {
    "ExecuteTime": {
     "end_time": "2025-01-24T05:12:33.591266Z",
     "start_time": "2025-01-24T05:12:33.568739Z"
    }
   },
   "outputs": [
    {
     "name": "stdout",
     "output_type": "stream",
     "text": [
      "Writing to Kafka Broker\n",
      "Writing: 2025-01-24 10:55:56,Pittsburgh,22ºC\n",
      "Writing: 2025-01-24 10:55:57,Pittsburgh,25ºC\n",
      "Writing: 2025-01-24 10:55:58,Mumbai,22ºC\n",
      "Writing: 2025-01-24 10:55:59,New York,20ºC\n",
      "Writing: 2025-01-24 10:56:00,Pune,24ºC\n",
      "Writing: 2025-01-24 10:56:01,New York,28ºC\n",
      "Writing: 2025-01-24 10:56:02,New York,28ºC\n",
      "Writing: 2025-01-24 10:56:03,Mumbai,24ºC\n",
      "Writing: 2025-01-24 10:56:04,Mumbai,30ºC\n",
      "Writing: 2025-01-24 10:56:05,Mumbai,24ºC\n"
     ]
    }
   ],
   "source": [
    "# Create a producer to write data to kafka\n",
    "# Ref: https://kafka-python.readthedocs.io/en/master/apidoc/KafkaProducer.html\n",
    "\n",
    "# [TODO]: Replace '...' with the address of your Kafka bootstrap server\n",
    "producer = KafkaProducer(bootstrap_servers=['localhost:9092'],\n",
    "                        value_serializer=lambda x: dumps(x).encode('utf-8'))\n",
    "\n",
    "# [TODO]: Add cities of your choice\n",
    "cities = ['Mumbai', 'Pune', 'Pittsburgh', 'New York']\n",
    "\n",
    "# Write data via the producer\n",
    "print(\"Writing to Kafka Broker\")\n",
    "for i in range(10):\n",
    "    data = f'{datetime.now().strftime(\"%Y-%m-%d %H:%M:%S\")},{cities[randint(0,len(cities)-1)]},{randint(18, 32)}ºC'\n",
    "    print(f\"Writing: {data}\")\n",
    "    producer.send(topic=topic, value=data)\n",
    "    sleep(1)"
   ]
  },
  {
   "cell_type": "markdown",
   "id": "a45bbace",
   "metadata": {},
   "source": [
    "### Consumer Mode -> Reads Data from Broker"
   ]
  },
  {
   "cell_type": "code",
   "execution_count": 8,
   "id": "a5e2f59f",
   "metadata": {},
   "outputs": [
    {
     "name": "stdout",
     "output_type": "stream",
     "text": [
      "Reading Kafka Broker\n",
      "2025-01-23 23:53:18,Mumbai,31ºC\n",
      "2025-01-23 23:53:19,Mumbai,28ºC\n",
      "2025-01-23 23:53:20,Mumbai,20ºC\n",
      "2025-01-23 23:53:21,Mumbai,22ºC\n",
      "2025-01-23 23:53:22,Mumbai,24ºC\n",
      "2025-01-23 23:53:23,Mumbai,27ºC\n",
      "2025-01-23 23:53:24,Mumbai,25ºC\n",
      "2025-01-23 23:53:25,Pune,22ºC\n",
      "2025-01-23 23:53:26,Pune,29ºC\n",
      "2025-01-23 23:53:27,Mumbai,30ºC\n",
      "2025-01-23 23:54:57,Pittsburgh,18ºC\n",
      "2025-01-23 23:54:58,Mumbai,22ºC\n",
      "2025-01-23 23:54:59,Pittsburgh,24ºC\n",
      "2025-01-23 23:55:00,Pittsburgh,22ºC\n",
      "2025-01-23 23:55:01,Mumbai,18ºC\n",
      "2025-01-23 23:55:02,Pittsburgh,21ºC\n",
      "2025-01-23 23:55:03,Pittsburgh,20ºC\n",
      "2025-01-23 23:55:04,Pune,26ºC\n",
      "2025-01-23 23:55:05,Pittsburgh,21ºC\n",
      "2025-01-23 23:55:06,Mumbai,27ºC\n",
      "2025-01-23 23:55:14,Mumbai,29ºC\n",
      "2025-01-23 23:55:15,Pittsburgh,19ºC\n",
      "2025-01-23 23:55:16,Pune,21ºC\n",
      "2025-01-23 23:55:17,New York,30ºC\n",
      "2025-01-23 23:55:18,New York,26ºC\n",
      "2025-01-23 23:55:19,Pune,25ºC\n",
      "2025-01-23 23:55:20,Mumbai,22ºC\n",
      "2025-01-23 23:55:21,New York,30ºC\n",
      "2025-01-23 23:55:22,Pittsburgh,20ºC\n",
      "2025-01-23 23:55:23,Pune,24ºC\n",
      "2025-01-23 23:57:08,Pune,24ºC\n",
      "2025-01-23 23:57:09,Pune,21ºC\n",
      "2025-01-23 23:57:10,Pittsburgh,28ºC\n",
      "2025-01-23 23:57:11,Pune,21ºC\n",
      "2025-01-23 23:57:12,Pune,32ºC\n",
      "2025-01-23 23:57:13,Mumbai,19ºC\n",
      "2025-01-23 23:57:14,Pittsburgh,27ºC\n",
      "2025-01-23 23:57:15,Mumbai,27ºC\n",
      "2025-01-23 23:57:16,New York,25ºC\n",
      "2025-01-23 23:57:17,Mumbai,28ºC\n",
      "2025-01-23 23:57:44,Mumbai,21ºC\n",
      "2025-01-23 23:57:45,Mumbai,31ºC\n",
      "2025-01-23 23:57:46,Pittsburgh,23ºC\n",
      "2025-01-23 23:57:47,Pune,24ºC\n",
      "2025-01-23 23:57:48,Pune,19ºC\n",
      "2025-01-23 23:57:49,Pittsburgh,27ºC\n",
      "2025-01-23 23:57:50,Pittsburgh,31ºC\n",
      "2025-01-23 23:57:51,Mumbai,24ºC\n",
      "2025-01-23 23:57:52,Pittsburgh,22ºC\n",
      "2025-01-23 23:57:53,Pune,32ºC\n",
      "2025-01-24 10:47:52,Pittsburgh,22ºC\n",
      "2025-01-24 10:47:53,Mumbai,26ºC\n",
      "2025-01-24 10:47:54,Pune,23ºC\n",
      "2025-01-24 10:47:55,Pune,26ºC\n",
      "2025-01-24 10:47:56,New York,19ºC\n",
      "2025-01-24 10:47:57,New York,32ºC\n",
      "2025-01-24 10:47:58,Pune,20ºC\n",
      "2025-01-24 10:47:59,Mumbai,29ºC\n",
      "2025-01-24 10:48:00,Pittsburgh,25ºC\n",
      "2025-01-24 10:48:01,Pune,28ºC\n",
      "2025-01-24 10:48:45,Pune,27ºC\n",
      "2025-01-24 10:48:46,New York,27ºC\n",
      "2025-01-24 10:48:47,Pune,26ºC\n",
      "2025-01-24 10:48:48,Mumbai,23ºC\n",
      "2025-01-24 10:48:49,Pittsburgh,31ºC\n",
      "2025-01-24 10:48:50,Pune,23ºC\n",
      "2025-01-24 10:48:51,Mumbai,31ºC\n",
      "2025-01-24 10:48:52,Pune,30ºC\n",
      "2025-01-24 10:48:53,New York,30ºC\n",
      "2025-01-24 10:48:54,Mumbai,18ºC\n",
      "2025-01-24 10:50:23,Mumbai,32ºC\n",
      "2025-01-24 10:50:24,Mumbai,27ºC\n",
      "2025-01-24 10:50:25,New York,28ºC\n",
      "2025-01-24 10:50:26,New York,23ºC\n",
      "2025-01-24 10:50:27,Pittsburgh,29ºC\n",
      "2025-01-24 10:50:28,Mumbai,19ºC\n",
      "2025-01-24 10:50:29,Pune,18ºC\n",
      "2025-01-24 10:50:30,Pune,25ºC\n",
      "2025-01-24 10:50:31,Mumbai,22ºC\n",
      "2025-01-24 10:50:32,Pune,20ºC\n",
      "2025-01-24 10:55:56,Pittsburgh,22ºC\n",
      "2025-01-24 10:55:57,Pittsburgh,25ºC\n",
      "2025-01-24 10:55:58,Mumbai,22ºC\n",
      "2025-01-24 10:55:59,New York,20ºC\n",
      "2025-01-24 10:56:00,Pune,24ºC\n",
      "2025-01-24 10:56:01,New York,28ºC\n",
      "2025-01-24 10:56:02,New York,28ºC\n",
      "2025-01-24 10:56:03,Mumbai,24ºC\n",
      "2025-01-24 10:56:04,Mumbai,30ºC\n",
      "2025-01-24 10:56:05,Mumbai,24ºC\n"
     ]
    },
    {
     "ename": "KeyboardInterrupt",
     "evalue": "",
     "output_type": "error",
     "traceback": [
      "\u001b[0;31m---------------------------------------------------------------------------\u001b[0m",
      "\u001b[0;31mKeyboardInterrupt\u001b[0m                         Traceback (most recent call last)",
      "Cell \u001b[0;32mIn[8], line 16\u001b[0m\n\u001b[1;32m      5\u001b[0m consumer \u001b[38;5;241m=\u001b[39m KafkaConsumer(\n\u001b[1;32m      6\u001b[0m     topic,\n\u001b[1;32m      7\u001b[0m     bootstrap_servers\u001b[38;5;241m=\u001b[39m[\u001b[38;5;124m'\u001b[39m\u001b[38;5;124mlocalhost:9092\u001b[39m\u001b[38;5;124m'\u001b[39m],\n\u001b[0;32m   (...)\u001b[0m\n\u001b[1;32m     12\u001b[0m     auto_commit_interval_ms\u001b[38;5;241m=\u001b[39m\u001b[38;5;241m1000\u001b[39m\n\u001b[1;32m     13\u001b[0m )\n\u001b[1;32m     15\u001b[0m \u001b[38;5;28mprint\u001b[39m(\u001b[38;5;124m'\u001b[39m\u001b[38;5;124mReading Kafka Broker\u001b[39m\u001b[38;5;124m'\u001b[39m)\n\u001b[0;32m---> 16\u001b[0m \u001b[38;5;28;01mfor\u001b[39;00m message \u001b[38;5;129;01min\u001b[39;00m consumer:\n\u001b[1;32m     17\u001b[0m     message \u001b[38;5;241m=\u001b[39m message\u001b[38;5;241m.\u001b[39mvalue\u001b[38;5;241m.\u001b[39mdecode()\n\u001b[1;32m     18\u001b[0m     \u001b[38;5;66;03m# Default message.value type is bytes!\u001b[39;00m\n",
      "File \u001b[0;32m/opt/anaconda3/lib/python3.12/site-packages/kafka/consumer/group.py:1203\u001b[0m, in \u001b[0;36mKafkaConsumer.__next__\u001b[0;34m(self)\u001b[0m\n\u001b[1;32m   1201\u001b[0m     \u001b[38;5;28;01mreturn\u001b[39;00m \u001b[38;5;28mself\u001b[39m\u001b[38;5;241m.\u001b[39mnext_v1()\n\u001b[1;32m   1202\u001b[0m \u001b[38;5;28;01melse\u001b[39;00m:\n\u001b[0;32m-> 1203\u001b[0m     \u001b[38;5;28;01mreturn\u001b[39;00m \u001b[38;5;28mself\u001b[39m\u001b[38;5;241m.\u001b[39mnext_v2()\n",
      "File \u001b[0;32m/opt/anaconda3/lib/python3.12/site-packages/kafka/consumer/group.py:1211\u001b[0m, in \u001b[0;36mKafkaConsumer.next_v2\u001b[0;34m(self)\u001b[0m\n\u001b[1;32m   1209\u001b[0m     \u001b[38;5;28mself\u001b[39m\u001b[38;5;241m.\u001b[39m_iterator \u001b[38;5;241m=\u001b[39m \u001b[38;5;28mself\u001b[39m\u001b[38;5;241m.\u001b[39m_message_generator_v2()\n\u001b[1;32m   1210\u001b[0m \u001b[38;5;28;01mtry\u001b[39;00m:\n\u001b[0;32m-> 1211\u001b[0m     \u001b[38;5;28;01mreturn\u001b[39;00m \u001b[38;5;28mnext\u001b[39m(\u001b[38;5;28mself\u001b[39m\u001b[38;5;241m.\u001b[39m_iterator)\n\u001b[1;32m   1212\u001b[0m \u001b[38;5;28;01mexcept\u001b[39;00m \u001b[38;5;167;01mStopIteration\u001b[39;00m:\n\u001b[1;32m   1213\u001b[0m     \u001b[38;5;28mself\u001b[39m\u001b[38;5;241m.\u001b[39m_iterator \u001b[38;5;241m=\u001b[39m \u001b[38;5;28;01mNone\u001b[39;00m\n",
      "File \u001b[0;32m/opt/anaconda3/lib/python3.12/site-packages/kafka/consumer/group.py:1126\u001b[0m, in \u001b[0;36mKafkaConsumer._message_generator_v2\u001b[0;34m(self)\u001b[0m\n\u001b[1;32m   1124\u001b[0m \u001b[38;5;28;01mdef\u001b[39;00m \u001b[38;5;21m_message_generator_v2\u001b[39m(\u001b[38;5;28mself\u001b[39m):\n\u001b[1;32m   1125\u001b[0m     timeout_ms \u001b[38;5;241m=\u001b[39m \u001b[38;5;241m1000\u001b[39m \u001b[38;5;241m*\u001b[39m (\u001b[38;5;28mself\u001b[39m\u001b[38;5;241m.\u001b[39m_consumer_timeout \u001b[38;5;241m-\u001b[39m time\u001b[38;5;241m.\u001b[39mtime())\n\u001b[0;32m-> 1126\u001b[0m     record_map \u001b[38;5;241m=\u001b[39m \u001b[38;5;28mself\u001b[39m\u001b[38;5;241m.\u001b[39mpoll(timeout_ms\u001b[38;5;241m=\u001b[39mtimeout_ms, update_offsets\u001b[38;5;241m=\u001b[39m\u001b[38;5;28;01mFalse\u001b[39;00m)\n\u001b[1;32m   1127\u001b[0m     \u001b[38;5;28;01mfor\u001b[39;00m tp, records \u001b[38;5;129;01min\u001b[39;00m record_map\u001b[38;5;241m.\u001b[39mitems():\n\u001b[1;32m   1128\u001b[0m         \u001b[38;5;66;03m# Generators are stateful, and it is possible that the tp / records\u001b[39;00m\n\u001b[1;32m   1129\u001b[0m         \u001b[38;5;66;03m# here may become stale during iteration -- i.e., we seek to a\u001b[39;00m\n\u001b[1;32m   1130\u001b[0m         \u001b[38;5;66;03m# different offset, pause consumption, or lose assignment.\u001b[39;00m\n\u001b[1;32m   1131\u001b[0m         \u001b[38;5;28;01mfor\u001b[39;00m record \u001b[38;5;129;01min\u001b[39;00m records:\n\u001b[1;32m   1132\u001b[0m             \u001b[38;5;66;03m# is_fetchable(tp) should handle assignment changes and offset\u001b[39;00m\n\u001b[1;32m   1133\u001b[0m             \u001b[38;5;66;03m# resets; for all other changes (e.g., seeks) we'll rely on the\u001b[39;00m\n\u001b[1;32m   1134\u001b[0m             \u001b[38;5;66;03m# outer function destroying the existing iterator/generator\u001b[39;00m\n\u001b[1;32m   1135\u001b[0m             \u001b[38;5;66;03m# via self._iterator = None\u001b[39;00m\n",
      "File \u001b[0;32m/opt/anaconda3/lib/python3.12/site-packages/kafka/consumer/group.py:663\u001b[0m, in \u001b[0;36mKafkaConsumer.poll\u001b[0;34m(self, timeout_ms, max_records, update_offsets)\u001b[0m\n\u001b[1;32m    661\u001b[0m remaining \u001b[38;5;241m=\u001b[39m timeout_ms\n\u001b[1;32m    662\u001b[0m \u001b[38;5;28;01mwhile\u001b[39;00m \u001b[38;5;129;01mnot\u001b[39;00m \u001b[38;5;28mself\u001b[39m\u001b[38;5;241m.\u001b[39m_closed:\n\u001b[0;32m--> 663\u001b[0m     records \u001b[38;5;241m=\u001b[39m \u001b[38;5;28mself\u001b[39m\u001b[38;5;241m.\u001b[39m_poll_once(remaining, max_records, update_offsets\u001b[38;5;241m=\u001b[39mupdate_offsets)\n\u001b[1;32m    664\u001b[0m     \u001b[38;5;28;01mif\u001b[39;00m records:\n\u001b[1;32m    665\u001b[0m         \u001b[38;5;28;01mreturn\u001b[39;00m records\n",
      "File \u001b[0;32m/opt/anaconda3/lib/python3.12/site-packages/kafka/consumer/group.py:712\u001b[0m, in \u001b[0;36mKafkaConsumer._poll_once\u001b[0;34m(self, timeout_ms, max_records, update_offsets)\u001b[0m\n\u001b[1;32m    709\u001b[0m     \u001b[38;5;28mself\u001b[39m\u001b[38;5;241m.\u001b[39m_client\u001b[38;5;241m.\u001b[39mpoll(timeout_ms\u001b[38;5;241m=\u001b[39m\u001b[38;5;241m0\u001b[39m)\n\u001b[1;32m    711\u001b[0m timeout_ms \u001b[38;5;241m=\u001b[39m \u001b[38;5;28mmin\u001b[39m(timeout_ms, \u001b[38;5;28mself\u001b[39m\u001b[38;5;241m.\u001b[39m_coordinator\u001b[38;5;241m.\u001b[39mtime_to_next_poll() \u001b[38;5;241m*\u001b[39m \u001b[38;5;241m1000\u001b[39m)\n\u001b[0;32m--> 712\u001b[0m \u001b[38;5;28mself\u001b[39m\u001b[38;5;241m.\u001b[39m_client\u001b[38;5;241m.\u001b[39mpoll(timeout_ms\u001b[38;5;241m=\u001b[39mtimeout_ms)\n\u001b[1;32m    713\u001b[0m \u001b[38;5;66;03m# after the long poll, we should check whether the group needs to rebalance\u001b[39;00m\n\u001b[1;32m    714\u001b[0m \u001b[38;5;66;03m# prior to returning data so that the group can stabilize faster\u001b[39;00m\n\u001b[1;32m    715\u001b[0m \u001b[38;5;28;01mif\u001b[39;00m \u001b[38;5;28mself\u001b[39m\u001b[38;5;241m.\u001b[39m_coordinator\u001b[38;5;241m.\u001b[39mneed_rejoin():\n",
      "File \u001b[0;32m/opt/anaconda3/lib/python3.12/site-packages/kafka/client_async.py:601\u001b[0m, in \u001b[0;36mKafkaClient.poll\u001b[0;34m(self, timeout_ms, future)\u001b[0m\n\u001b[1;32m    598\u001b[0m             timeout \u001b[38;5;241m=\u001b[39m \u001b[38;5;28mmin\u001b[39m(timeout, \u001b[38;5;28mself\u001b[39m\u001b[38;5;241m.\u001b[39mconfig[\u001b[38;5;124m'\u001b[39m\u001b[38;5;124mretry_backoff_ms\u001b[39m\u001b[38;5;124m'\u001b[39m])\n\u001b[1;32m    599\u001b[0m         timeout \u001b[38;5;241m=\u001b[39m \u001b[38;5;28mmax\u001b[39m(\u001b[38;5;241m0\u001b[39m, timeout)  \u001b[38;5;66;03m# avoid negative timeouts\u001b[39;00m\n\u001b[0;32m--> 601\u001b[0m     \u001b[38;5;28mself\u001b[39m\u001b[38;5;241m.\u001b[39m_poll(timeout \u001b[38;5;241m/\u001b[39m \u001b[38;5;241m1000\u001b[39m)\n\u001b[1;32m    603\u001b[0m \u001b[38;5;66;03m# called without the lock to avoid deadlock potential\u001b[39;00m\n\u001b[1;32m    604\u001b[0m \u001b[38;5;66;03m# if handlers need to acquire locks\u001b[39;00m\n\u001b[1;32m    605\u001b[0m responses\u001b[38;5;241m.\u001b[39mextend(\u001b[38;5;28mself\u001b[39m\u001b[38;5;241m.\u001b[39m_fire_pending_completed_requests())\n",
      "File \u001b[0;32m/opt/anaconda3/lib/python3.12/site-packages/kafka/client_async.py:633\u001b[0m, in \u001b[0;36mKafkaClient._poll\u001b[0;34m(self, timeout)\u001b[0m\n\u001b[1;32m    630\u001b[0m \u001b[38;5;28mself\u001b[39m\u001b[38;5;241m.\u001b[39m_register_send_sockets()\n\u001b[1;32m    632\u001b[0m start_select \u001b[38;5;241m=\u001b[39m time\u001b[38;5;241m.\u001b[39mtime()\n\u001b[0;32m--> 633\u001b[0m ready \u001b[38;5;241m=\u001b[39m \u001b[38;5;28mself\u001b[39m\u001b[38;5;241m.\u001b[39m_selector\u001b[38;5;241m.\u001b[39mselect(timeout)\n\u001b[1;32m    634\u001b[0m end_select \u001b[38;5;241m=\u001b[39m time\u001b[38;5;241m.\u001b[39mtime()\n\u001b[1;32m    635\u001b[0m \u001b[38;5;28;01mif\u001b[39;00m \u001b[38;5;28mself\u001b[39m\u001b[38;5;241m.\u001b[39m_sensors:\n",
      "File \u001b[0;32m/opt/anaconda3/lib/python3.12/selectors.py:566\u001b[0m, in \u001b[0;36mKqueueSelector.select\u001b[0;34m(self, timeout)\u001b[0m\n\u001b[1;32m    564\u001b[0m ready \u001b[38;5;241m=\u001b[39m []\n\u001b[1;32m    565\u001b[0m \u001b[38;5;28;01mtry\u001b[39;00m:\n\u001b[0;32m--> 566\u001b[0m     kev_list \u001b[38;5;241m=\u001b[39m \u001b[38;5;28mself\u001b[39m\u001b[38;5;241m.\u001b[39m_selector\u001b[38;5;241m.\u001b[39mcontrol(\u001b[38;5;28;01mNone\u001b[39;00m, max_ev, timeout)\n\u001b[1;32m    567\u001b[0m \u001b[38;5;28;01mexcept\u001b[39;00m \u001b[38;5;167;01mInterruptedError\u001b[39;00m:\n\u001b[1;32m    568\u001b[0m     \u001b[38;5;28;01mreturn\u001b[39;00m ready\n",
      "\u001b[0;31mKeyboardInterrupt\u001b[0m: "
     ]
    }
   ],
   "source": [
    "# Create a consumer to read data from kafka\n",
    "# Ref: https://kafka-python.readthedocs.io/en/master/apidoc/KafkaConsumer.html\n",
    "\n",
    "# [TODO]: Complete the missing ... parameters/arguments using the Kafka documentation\n",
    "consumer = KafkaConsumer(\n",
    "    topic,\n",
    "    bootstrap_servers=['localhost:9092'],\n",
    "    auto_offset_reset='earliest', #Experiment with different values\n",
    "    # Commit that an offset has been read\n",
    "    enable_auto_commit=True,\n",
    "    # How often to tell Kafka, an offset has been read\n",
    "    auto_commit_interval_ms=1000\n",
    ")\n",
    "\n",
    "print('Reading Kafka Broker')\n",
    "for message in consumer:\n",
    "    message = message.value.decode()\n",
    "    # Default message.value type is bytes!\n",
    "    print(loads(message))\n",
    "    os.system(f\"echo {message} >> kafka_log.csv\")"
   ]
  },
  {
   "cell_type": "markdown",
   "id": "38927152",
   "metadata": {},
   "source": [
    "# Use kcat!\n",
    "It's a CLI (Command Line Interface). Previously known as kafkacat\n",
    "\n",
    "\n",
    "Ref: https://docs.confluent.io/platform/current/app-development/kafkacat-usage.html"
   ]
  },
  {
   "cell_type": "code",
   "execution_count": null,
   "id": "e19b63da",
   "metadata": {},
   "outputs": [],
   "source": [
    "#kcat command: connect to local Kafka broker, specify a topic, and consume messages from the earliest offset"
   ]
  },
  {
   "cell_type": "code",
   "execution_count": 11,
   "id": "ebd5961f-8a5e-4f36-a913-350f79c83f54",
   "metadata": {},
   "outputs": [
    {
     "name": "stdout",
     "output_type": "stream",
     "text": [
      "%3|1737734923.419|FAIL|rdkafka#producer-1| [thrd:localhost:9092/bootstrap]: localhost:9092/bootstrap: Connect to ipv4#127.0.0.1:9092 failed: Connection refused (after 0ms in state CONNECT)\n",
      "%3|1737734924.424|FAIL|rdkafka#producer-1| [thrd:localhost:9092/bootstrap]: localhost:9092/bootstrap: Connect to ipv4#127.0.0.1:9092 failed: Connection refused (after 1ms in state CONNECT, 1 identical error(s) suppressed)\n",
      "%3|1737734925.428|FAIL|rdkafka#producer-1| [thrd:localhost:9092/bootstrap]: localhost:9092/bootstrap: Connect to ipv6#[::1]:9092 failed: Connection refused (after 0ms in state CONNECT)\n",
      "% ERROR: Failed to acquire metadata: Local: Broker transport failure (Are the brokers reachable? Also try increasing the metadata timeout with -m <timeout>?)\n"
     ]
    }
   ],
   "source": [
    "!kcat -b localhost:9092 -L"
   ]
  },
  {
   "cell_type": "code",
   "execution_count": 12,
   "id": "477e03b6-5e79-4eb4-a3d7-b2561bfa40d8",
   "metadata": {},
   "outputs": [
    {
     "name": "stdout",
     "output_type": "stream",
     "text": [
      "\"2025-01-23 23:53:18,Mumbai,31\\u00baC\"\n",
      "\"2025-01-23 23:53:19,Mumbai,28\\u00baC\"\n",
      "\"2025-01-23 23:53:20,Mumbai,20\\u00baC\"\n",
      "\"2025-01-23 23:53:21,Mumbai,22\\u00baC\"\n",
      "\"2025-01-23 23:53:22,Mumbai,24\\u00baC\"\n",
      "\"2025-01-23 23:53:23,Mumbai,27\\u00baC\"\n",
      "\"2025-01-23 23:53:24,Mumbai,25\\u00baC\"\n",
      "\"2025-01-23 23:53:25,Pune,22\\u00baC\"\n",
      "\"2025-01-23 23:53:26,Pune,29\\u00baC\"\n",
      "\"2025-01-23 23:53:27,Mumbai,30\\u00baC\"\n",
      "\"2025-01-23 23:54:57,Pittsburgh,18\\u00baC\"\n",
      "\"2025-01-23 23:54:58,Mumbai,22\\u00baC\"\n",
      "\"2025-01-23 23:54:59,Pittsburgh,24\\u00baC\"\n",
      "\"2025-01-23 23:55:00,Pittsburgh,22\\u00baC\"\n",
      "\"2025-01-23 23:55:01,Mumbai,18\\u00baC\"\n",
      "\"2025-01-23 23:55:02,Pittsburgh,21\\u00baC\"\n",
      "\"2025-01-23 23:55:03,Pittsburgh,20\\u00baC\"\n",
      "\"2025-01-23 23:55:04,Pune,26\\u00baC\"\n",
      "\"2025-01-23 23:55:05,Pittsburgh,21\\u00baC\"\n",
      "\"2025-01-23 23:55:06,Mumbai,27\\u00baC\"\n",
      "\"2025-01-23 23:55:14,Mumbai,29\\u00baC\"\n",
      "\"2025-01-23 23:55:15,Pittsburgh,19\\u00baC\"\n",
      "\"2025-01-23 23:55:16,Pune,21\\u00baC\"\n",
      "\"2025-01-23 23:55:17,New York,30\\u00baC\"\n",
      "\"2025-01-23 23:55:18,New York,26\\u00baC\"\n",
      "\"2025-01-23 23:55:19,Pune,25\\u00baC\"\n",
      "\"2025-01-23 23:55:20,Mumbai,22\\u00baC\"\n",
      "\"2025-01-23 23:55:21,New York,30\\u00baC\"\n",
      "\"2025-01-23 23:55:22,Pittsburgh,20\\u00baC\"\n",
      "\"2025-01-23 23:55:23,Pune,24\\u00baC\"\n",
      "\"2025-01-23 23:57:08,Pune,24\\u00baC\"\n",
      "\"2025-01-23 23:57:09,Pune,21\\u00baC\"\n",
      "\"2025-01-23 23:57:10,Pittsburgh,28\\u00baC\"\n",
      "\"2025-01-23 23:57:11,Pune,21\\u00baC\"\n",
      "\"2025-01-23 23:57:12,Pune,32\\u00baC\"\n",
      "\"2025-01-23 23:57:13,Mumbai,19\\u00baC\"\n",
      "\"2025-01-23 23:57:14,Pittsburgh,27\\u00baC\"\n",
      "\"2025-01-23 23:57:15,Mumbai,27\\u00baC\"\n",
      "\"2025-01-23 23:57:16,New York,25\\u00baC\"\n",
      "\"2025-01-23 23:57:17,Mumbai,28\\u00baC\"\n",
      "\"2025-01-23 23:57:44,Mumbai,21\\u00baC\"\n",
      "\"2025-01-23 23:57:45,Mumbai,31\\u00baC\"\n",
      "\"2025-01-23 23:57:46,Pittsburgh,23\\u00baC\"\n",
      "\"2025-01-23 23:57:47,Pune,24\\u00baC\"\n",
      "\"2025-01-23 23:57:48,Pune,19\\u00baC\"\n",
      "\"2025-01-23 23:57:49,Pittsburgh,27\\u00baC\"\n",
      "\"2025-01-23 23:57:50,Pittsburgh,31\\u00baC\"\n",
      "\"2025-01-23 23:57:51,Mumbai,24\\u00baC\"\n",
      "\"2025-01-23 23:57:52,Pittsburgh,22\\u00baC\"\n",
      "\"2025-01-23 23:57:53,Pune,32\\u00baC\"\n",
      "\"2025-01-24 10:47:52,Pittsburgh,22\\u00baC\"\n",
      "\"2025-01-24 10:47:53,Mumbai,26\\u00baC\"\n",
      "\"2025-01-24 10:47:54,Pune,23\\u00baC\"\n",
      "\"2025-01-24 10:47:55,Pune,26\\u00baC\"\n",
      "\"2025-01-24 10:47:56,New York,19\\u00baC\"\n",
      "\"2025-01-24 10:47:57,New York,32\\u00baC\"\n",
      "\"2025-01-24 10:47:58,Pune,20\\u00baC\"\n",
      "\"2025-01-24 10:47:59,Mumbai,29\\u00baC\"\n",
      "\"2025-01-24 10:48:00,Pittsburgh,25\\u00baC\"\n",
      "\"2025-01-24 10:48:01,Pune,28\\u00baC\"\n",
      "\"2025-01-24 10:48:45,Pune,27\\u00baC\"\n",
      "\"2025-01-24 10:48:46,New York,27\\u00baC\"\n",
      "\"2025-01-24 10:48:47,Pune,26\\u00baC\"\n",
      "\"2025-01-24 10:48:48,Mumbai,23\\u00baC\"\n",
      "\"2025-01-24 10:48:49,Pittsburgh,31\\u00baC\"\n",
      "\"2025-01-24 10:48:50,Pune,23\\u00baC\"\n",
      "\"2025-01-24 10:48:51,Mumbai,31\\u00baC\"\n",
      "\"2025-01-24 10:48:52,Pune,30\\u00baC\"\n",
      "\"2025-01-24 10:48:53,New York,30\\u00baC\"\n",
      "\"2025-01-24 10:48:54,Mumbai,18\\u00baC\"\n",
      "\"2025-01-24 10:50:23,Mumbai,32\\u00baC\"\n",
      "\"2025-01-24 10:50:24,Mumbai,27\\u00baC\"\n",
      "\"2025-01-24 10:50:25,New York,28\\u00baC\"\n",
      "\"2025-01-24 10:50:26,New York,23\\u00baC\"\n",
      "\"2025-01-24 10:50:27,Pittsburgh,29\\u00baC\"\n",
      "\"2025-01-24 10:50:28,Mumbai,19\\u00baC\"\n",
      "\"2025-01-24 10:50:29,Pune,18\\u00baC\"\n",
      "\"2025-01-24 10:50:30,Pune,25\\u00baC\"\n",
      "\"2025-01-24 10:50:31,Mumbai,22\\u00baC\"\n",
      "\"2025-01-24 10:50:32,Pune,20\\u00baC\"\n",
      "% Reached end of topic recitation-d-sarvesh [0] at offset 80\n",
      "^C\n"
     ]
    }
   ],
   "source": [
    "!kcat -b localhost:9092 -t recitation-d-sarvesh -C"
   ]
  },
  {
   "cell_type": "code",
   "execution_count": null,
   "id": "caf5da76-14b2-408f-97f2-c40c2dd28c59",
   "metadata": {},
   "outputs": [],
   "source": []
  }
 ],
 "metadata": {
  "kernelspec": {
   "display_name": "Python 3 (ipykernel)",
   "language": "python",
   "name": "python3"
  },
  "language_info": {
   "codemirror_mode": {
    "name": "ipython",
    "version": 3
   },
   "file_extension": ".py",
   "mimetype": "text/x-python",
   "name": "python",
   "nbconvert_exporter": "python",
   "pygments_lexer": "ipython3",
   "version": "3.12.4"
  }
 },
 "nbformat": 4,
 "nbformat_minor": 5
}
